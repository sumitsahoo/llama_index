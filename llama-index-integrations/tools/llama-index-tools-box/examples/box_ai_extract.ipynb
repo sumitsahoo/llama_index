{
 "cells": [
  {
   "cell_type": "code",
   "execution_count": null,
   "metadata": {},
   "outputs": [],
   "source": [
    "# Setup Box Client\n",
    "from box_sdk_gen import DeveloperTokenConfig, BoxDeveloperTokenAuth, BoxClient\n",
    "\n",
    "BOX_DEV_TOKEN = \"your_box_dev_token\"\n",
    "\n",
    "config = DeveloperTokenConfig(BOX_DEV_TOKEN)\n",
    "auth = BoxDeveloperTokenAuth(config)\n",
    "box_client = BoxClient(auth)"
   ]
  },
  {
   "cell_type": "code",
   "execution_count": null,
   "metadata": {},
   "outputs": [],
   "source": [
    "# Set up OpenAI Client and Agent\n",
    "import openai\n",
    "\n",
    "openai.api_key = \"your_openai_api_key\"\n",
    "\n",
    "from llama_index.agent.openai import OpenAIAgent"
   ]
  },
  {
   "cell_type": "code",
   "execution_count": null,
   "metadata": {},
   "outputs": [],
   "source": [
    "from llama_index.tools.box import BoxAIExtractToolSpec\n",
    "\n",
    "\n",
    "document_id = \"test_txt_invoice_id\"\n",
    "openai_api_key = \"openai_api_key\"\n",
    "ai_prompt = (\n",
    "    '{\"doc_type\",\"date\",\"total\",\"vendor\",\"invoice_number\",\"purchase_order_number\"}'\n",
    ")\n",
    "\n",
    "box_tool = BoxAIExtractToolSpec(box_client=box_client)\n",
    "\n",
    "agent = OpenAIAgent.from_tools(\n",
    "    box_tool.to_tool_list(),\n",
    "    verbose=True,\n",
    ")\n",
    "\n",
    "answer = agent.chat(f\"{ai_prompt} for {document_id}\")\n",
    "print(answer)"
   ]
  },
  {
   "cell_type": "markdown",
   "metadata": {},
   "source": [
    "```\n",
    "tests/test_tools_box_ai_extract.py Added user message to memory: {\"doc_type\",\"date\",\"total\",\"vendor\",\"invoice_number\",\"purchase_order_number\"} for 1517629086517\n",
    "=== Calling Function ===\n",
    "Calling function: ai_extract with args: {\"file_id\":\"1517629086517\",\"ai_prompt\":\"Extract the document type, date, total amount, vendor, invoice number, and purchase order number.\"}\n",
    "Got output: Doc ID: edc0036b-4228-4717-9e43-23d86089f4bb\n",
    "Text: {\"Vendor\": \"Quasar Innovations\", \"Invoice Number\": \"Q2468\",\n",
    "\"Purchase Order Number\": \"003\", \"Total\": \"$1,050\", \"Date\": \"August 8,\n",
    "2024\"}\n",
    "========================\n",
    "\n",
    "The extracted information from the document with ID 1517629086517 is as follows:\n",
    "\n",
    "- Document Type: Not specified\n",
    "- Date: August 8, 2024\n",
    "- Total Amount: $1,050\n",
    "- Vendor: Quasar Innovations\n",
    "- Invoice Number: Q2468\n",
    "- Purchase Order Number: 003\n",
    "```"
   ]
  }
 ],
 "metadata": {
  "language_info": {
   "name": "python"
  }
 },
 "nbformat": 4,
 "nbformat_minor": 2
}
