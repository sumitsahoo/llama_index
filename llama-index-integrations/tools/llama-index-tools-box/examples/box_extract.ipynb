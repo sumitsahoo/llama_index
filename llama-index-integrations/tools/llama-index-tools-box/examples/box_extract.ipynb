{
 "cells": [
  {
   "cell_type": "code",
   "execution_count": null,
   "metadata": {},
   "outputs": [],
   "source": [
    "# Setup Box Client\n",
    "from box_sdk_gen import DeveloperTokenConfig, BoxDeveloperTokenAuth, BoxClient\n",
    "\n",
    "BOX_DEV_TOKEN = \"your_box_dev_token\"\n",
    "\n",
    "config = DeveloperTokenConfig(BOX_DEV_TOKEN)\n",
    "auth = BoxDeveloperTokenAuth(config)\n",
    "box_client = BoxClient(auth)"
   ]
  },
  {
   "cell_type": "code",
   "execution_count": null,
   "metadata": {},
   "outputs": [],
   "source": [
    "# Set up OpenAI Client and Agent\n",
    "import openai\n",
    "\n",
    "openai.api_key = \"your_openai_api_key\"\n",
    "\n",
    "from llama_index.agent.openai import OpenAIAgent"
   ]
  },
  {
   "cell_type": "code",
   "execution_count": null,
   "metadata": {},
   "outputs": [],
   "source": [
    "from llama_index.tools.box import BoxTextExtractToolSpec\n",
    "\n",
    "document_id = \"your_document_id\"\n",
    "\n",
    "box_tool = BoxTextExtractToolSpec(box_client=box_client)\n",
    "\n",
    "agent = OpenAIAgent.from_tools(\n",
    "    box_tool.to_tool_list(),\n",
    "    verbose=True,\n",
    ")\n",
    "\n",
    "answer = agent.chat(f\"read document {document_id}\")\n",
    "print(answer)"
   ]
  },
  {
   "cell_type": "markdown",
   "metadata": {},
   "source": [
    "```\n",
    "=== Calling Function ===\n",
    "Calling function: extract with args: {\"file_id\":\"1584056661506\"}\n",
    "Got output: Doc ID: da890d37-396a-4f0b-ad5a-1fb40f99782b\n",
    "Text: Action Plan For  Teaching Economics 1   Long term Goal     To\n",
    "teach Economics  by keeping in mind the 21st Century approaches and\n",
    "skills 2   Short term Goal    To work on creativity and intellectual\n",
    "curiosity  requirements of the students  To  develop interpersonal and\n",
    "collaborative skills of the students  3\n",
    "========================\n",
    "\n",
    "I have extracted the text content from the document with ID 1584056661506. Here is a snippet of the text:\n",
    "\n",
    "\"Action Plan For Teaching Economics\n",
    "1 Long term Goal\n",
    "To teach Economics by keeping in mind the 21st Century approaches and skills\n",
    "2 Short term Goal\n",
    "To work on creativity and intellectual curiosity requirements of the students\n",
    "To develop interpersonal and collaborative skills of the students\"\n",
    "\n",
    "Let me know if you need more information or assistance with this document.\n",
    "```"
   ]
  }
 ],
 "metadata": {
  "language_info": {
   "name": "python"
  }
 },
 "nbformat": 4,
 "nbformat_minor": 2
}
