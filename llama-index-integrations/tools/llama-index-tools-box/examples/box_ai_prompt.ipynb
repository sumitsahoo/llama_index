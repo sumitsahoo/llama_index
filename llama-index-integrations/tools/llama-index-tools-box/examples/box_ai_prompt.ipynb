{
 "cells": [
  {
   "cell_type": "code",
   "execution_count": null,
   "metadata": {},
   "outputs": [],
   "source": [
    "# Setup Box Client\n",
    "from box_sdk_gen import DeveloperTokenConfig, BoxDeveloperTokenAuth, BoxClient\n",
    "\n",
    "BOX_DEV_TOKEN = \"your_box_dev_token\"\n",
    "\n",
    "config = DeveloperTokenConfig(BOX_DEV_TOKEN)\n",
    "auth = BoxDeveloperTokenAuth(config)\n",
    "box_client = BoxClient(auth)"
   ]
  },
  {
   "cell_type": "code",
   "execution_count": null,
   "metadata": {},
   "outputs": [],
   "source": [
    "# Set up OpenAI Client and Agent\n",
    "import openai\n",
    "\n",
    "openai.api_key = \"your_openai_api_key\"\n",
    "\n",
    "from llama_index.agent.openai import OpenAIAgent"
   ]
  },
  {
   "cell_type": "code",
   "execution_count": null,
   "metadata": {},
   "outputs": [],
   "source": [
    "from llama_index.tools.box import BoxAIPromptToolSpec\n",
    "\n",
    "\n",
    "document_id = \"your_document_id\"\n",
    "ai_prompt = \"Summarize the document\"\n",
    "\n",
    "\n",
    "box_tool = BoxAIPromptToolSpec(box_client=box_client)\n",
    "\n",
    "agent = OpenAIAgent.from_tools(\n",
    "    box_tool.to_tool_list(),\n",
    "    verbose=True,\n",
    ")\n",
    "\n",
    "answer = agent.chat(f\"{ai_prompt} for {document_id}\")\n",
    "print(answer)"
   ]
  },
  {
   "cell_type": "markdown",
   "metadata": {},
   "source": [
    "```\n",
    "Added user message to memory: Summarize the document for 1584056661506\n",
    "=== Calling Function ===\n",
    "Calling function: ai_prompt with args: {\"file_id\":\"1584056661506\",\"ai_prompt\":\"Please summarize this document.\"}\n",
    "Got output: Doc ID: cddd223a-fce8-4798-9c23-b7066887ec66\n",
    "Text: The document is an action plan for teaching economics, with a\n",
    "focus on incorporating 21st-century approaches and skills. The long-\n",
    "term goal is to teach economics while considering these modern\n",
    "approaches. The short-term goals include working on the creativity and\n",
    "intellectual curiosity requirements of students, as well as developing\n",
    "their interp...\n",
    "========================\n",
    "\n",
    "The document is an action plan for teaching economics, emphasizing the integration of 21st-century approaches and skills. \n",
    "The long-term goal is to teach economics while incorporating modern methods. Short-term goals include enhancing students' \n",
    "creativity, intellectual curiosity, and developing their...\n",
    "```"
   ]
  }
 ],
 "metadata": {
  "language_info": {
   "name": "python"
  }
 },
 "nbformat": 4,
 "nbformat_minor": 2
}
