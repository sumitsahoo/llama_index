{
 "cells": [
  {
   "cell_type": "markdown",
   "metadata": {},
   "source": [
    "# Parallel Execution of Same Event Example\n",
    "\n",
    "In this example, we'll demonstrate how to use the workflow functionality to achieve similar capabilities while allowing parallel execution of multiple events of the same type.  \n",
    "By setting the `num_workers` parameter in `@step` decorator, we can control the number of steps executed simultaneously, enabling efficient parallel processing.\n",
    "\n"
   ]
  },
  {
   "cell_type": "markdown",
   "metadata": {},
   "source": [
    "\n",
    "# Installing Dependencies\n",
    "\n",
    "First, we need to install the necessary dependencies:\n",
    "\n",
    "* LlamaIndex core for most functionalities\n",
    "* llama-index-utils-workflow for workflow capabilities"
   ]
  },
  {
   "cell_type": "code",
   "execution_count": null,
   "metadata": {},
   "outputs": [],
   "source": [
    "!pip install llama-index-core llama-index-utils-workflow"
   ]
  },
  {
   "cell_type": "markdown",
   "metadata": {},
   "source": [
    "# Importing Required Libraries\n",
    "After installing the dependencies, we can import the required libraries:"
   ]
  },
  {
   "cell_type": "code",
   "execution_count": null,
   "metadata": {},
   "outputs": [],
   "source": [
    "import asyncio\n",
    "from llama_index.core.workflow import (\n",
    "    step,\n",
    "    Context,\n",
    "    Workflow,\n",
    "    Event,\n",
    "    StartEvent,\n",
    "    StopEvent,\n",
    ")"
   ]
  },
  {
   "cell_type": "markdown",
   "metadata": {},
   "source": [
    "We will create two workflows: one that can process multiple data items in parallel by using the `@step(num_workers=N)` decorator, and another without setting num_workers, for comparison.  \n",
    "By using the `num_workers` parameter in the `@step` decorator, we can limit the number of steps executed simultaneously, thus controlling the level of parallelism. This approach is particularly suitable for scenarios that require processing similar tasks while managing resource usage.  \n",
    "For example, you can execute multiple sub-queries at once, but please note that num_workers cannot be set without limits. It depends on  your workload or token limits.\n",
    "# Defining Event Types\n",
    "We'll define two event types: one for input events to be processed, and another for processing results:"
   ]
  },
  {
   "cell_type": "code",
   "execution_count": null,
   "metadata": {},
   "outputs": [],
   "source": [
    "class ProcessEvent(Event):\n",
    "    data: str\n",
    "\n",
    "\n",
    "class ResultEvent(Event):\n",
    "    result: str"
   ]
  },
  {
   "cell_type": "markdown",
   "metadata": {},
   "source": [
    "# Creating Sequential and Parallel Workflows\n",
    "Now, we'll create a SequentialWorkflow and a ParallelWorkflow class that includes three main steps:\n",
    "\n",
    "- start: Initialize and send multiple parallel events\n",
    "- process_data: Process data\n",
    "- combine_results: Collect and merge all processing results"
   ]
  },
  {
   "cell_type": "code",
   "execution_count": null,
   "metadata": {},
   "outputs": [],
   "source": [
    "import random\n",
    "\n",
    "\n",
    "class SequentialWorkflow(Workflow):\n",
    "    @step(pass_context=True)\n",
    "    async def start(self, ctx: Context, ev: StartEvent) -> ProcessEvent:\n",
    "        data_list = [\"A\", \"B\", \"C\"]\n",
    "        ctx.data[\"num_to_collect\"] = len(data_list)\n",
    "        for item in data_list:\n",
    "            self.send_event(ProcessEvent(data=item))\n",
    "        return None\n",
    "\n",
    "    @step()\n",
    "    async def process_data(self, ev: ProcessEvent) -> ResultEvent:\n",
    "        # Simulate some time-consuming processing\n",
    "        await asyncio.sleep(random.randint(1, 2))\n",
    "        result = f\"Processed: {ev.data}\"\n",
    "        print(f\"Completed processing: {ev.data}\")\n",
    "        return ResultEvent(result=result)\n",
    "\n",
    "    @step(pass_context=True)\n",
    "    async def combine_results(\n",
    "        self, ctx: Context, ev: ResultEvent\n",
    "    ) -> StopEvent | None:\n",
    "        num_to_collect = ctx.data[\"num_to_collect\"]\n",
    "        results = ctx.collect_events(ev, [ResultEvent] * num_to_collect)\n",
    "        if results is None:\n",
    "            return None\n",
    "\n",
    "        combined_result = \", \".join([event.result for event in results])\n",
    "        return StopEvent(result=combined_result)\n",
    "\n",
    "\n",
    "class ParallelWorkflow(Workflow):\n",
    "    @step(pass_context=True)\n",
    "    async def start(self, ctx: Context, ev: StartEvent) -> ProcessEvent:\n",
    "        data_list = [\"A\", \"B\", \"C\"]\n",
    "        ctx.data[\"num_to_collect\"] = len(data_list)\n",
    "        for item in data_list:\n",
    "            self.send_event(ProcessEvent(data=item))\n",
    "        return None\n",
    "\n",
    "    @step(num_workers=3)\n",
    "    async def process_data(self, ev: ProcessEvent) -> ResultEvent:\n",
    "        # Simulate some time-consuming processing\n",
    "        await asyncio.sleep(random.randint(1, 2))\n",
    "        result = f\"Processed: {ev.data}\"\n",
    "        print(f\"Completed processing: {ev.data}\")\n",
    "        return ResultEvent(result=result)\n",
    "\n",
    "    @step(pass_context=True)\n",
    "    async def combine_results(\n",
    "        self, ctx: Context, ev: ResultEvent\n",
    "    ) -> StopEvent | None:\n",
    "        num_to_collect = ctx.data[\"num_to_collect\"]\n",
    "        results = ctx.collect_events(ev, [ResultEvent] * num_to_collect)\n",
    "        if results is None:\n",
    "            return None\n",
    "\n",
    "        combined_result = \", \".join([event.result for event in results])\n",
    "        return StopEvent(result=combined_result)"
   ]
  },
  {
   "cell_type": "markdown",
   "metadata": {},
   "source": [
    "In these two workflows:\n",
    "\n",
    "- The start method initializes and sends multiple ProcessEvent.\n",
    "- The process_data method uses\n",
    "  - only the `@step()` decorator in SequentialWorkflow\n",
    "  - uses the `@step(num_workers=3)` decorator in ParallelWorkflow to limit the number of simultaneously executing workers to 3.\n",
    "- The combine_results method collects all processing results and merges them.\n",
    "\n",
    "# Running the Workflow\n",
    "Finally, we can create a main function to run our workflow:"
   ]
  },
  {
   "cell_type": "code",
   "execution_count": null,
   "metadata": {},
   "outputs": [
    {
     "name": "stdout",
     "output_type": "stream",
     "text": [
      "Start a sequential workflow without setting num_workers in the step of process_data\n",
      "Completed processing: A\n",
      "Completed processing: B\n",
      "Completed processing: C\n",
      "Workflow result: Processed: A, Processed: B, Processed: C\n",
      "Time taken: 4.008663654327393 seconds\n",
      "------------------------------\n",
      "Start a parallel workflow with setting num_workers in the step of process_data\n",
      "Completed processing: C\n",
      "Completed processing: A\n",
      "Completed processing: B\n",
      "Workflow result: Processed: C, Processed: A, Processed: B\n",
      "Time taken: 2.0040180683135986 seconds\n"
     ]
    }
   ],
   "source": [
    "import time\n",
    "\n",
    "sequential_workflow = SequentialWorkflow()\n",
    "\n",
    "print(\n",
    "    \"Start a sequential workflow without setting num_workers in the step of process_data\"\n",
    ")\n",
    "start_time = time.time()\n",
    "result = await sequential_workflow.run()\n",
    "end_time = time.time()\n",
    "print(f\"Workflow result: {result}\")\n",
    "print(f\"Time taken: {end_time - start_time} seconds\")\n",
    "print(\"-\" * 30)\n",
    "\n",
    "parallel_workflow = ParallelWorkflow()\n",
    "\n",
    "print(\n",
    "    \"Start a parallel workflow with setting num_workers in the step of process_data\"\n",
    ")\n",
    "start_time = time.time()\n",
    "result = await parallel_workflow.run()\n",
    "end_time = time.time()\n",
    "print(f\"Workflow result: {result}\")\n",
    "print(f\"Time taken: {end_time - start_time} seconds\")"
   ]
  },
  {
   "cell_type": "markdown",
   "metadata": {},
   "source": [
    "# Note\n",
    "\n",
    "- Without setting num_workers, it might take 3 to 6 seconds. By setting num_workers, the processing occurs in parallel, handling 3 items at a time, and only takes 2 seconds.\n",
    "- In ParallelWorkflow, the order of the completed results may differ from the input order, depending on the completion time of the tasks.\n"
   ]
  },
  {
   "cell_type": "markdown",
   "metadata": {},
   "source": [
    "This example demonstrates the execution speed with and without using num_workers, and how to implement parallel processing in a workflow. By setting num_workers, we can control the degree of parallelism, which is very useful for scenarios that need to balance performance and resource usage."
   ]
  }
 ],
 "metadata": {
  "colab": {
   "provenance": [],
   "toc_visible": true
  },
  "kernelspec": {
   "display_name": "Python 3",
   "name": "python3"
  },
  "language_info": {
   "name": "python"
  }
 },
 "nbformat": 4,
 "nbformat_minor": 0
}
